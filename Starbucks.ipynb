{
 "cells": [
  {
   "cell_type": "markdown",
   "metadata": {},
   "source": [
    "## Portfolio Exercise: Starbucks\n",
    "<br>\n",
    "\n",
    "<img src=\"https://opj.ca/wp-content/uploads/2018/02/New-Starbucks-Logo-1200x969.jpg\" width=\"200\" height=\"200\">\n",
    "<br>\n",
    "<br>\n",
    " \n",
    "#### Background Information\n",
    "\n",
    "The dataset you will be provided in this portfolio exercise was originally used as a take-home assignment provided by Starbucks for their job candidates. The data for this exercise consists of about 120,000 data points split in a 2:1 ratio among training and test files. In the experiment simulated by the data, an advertising promotion was tested to see if it would bring more customers to purchase a specific product priced at $10. Since it costs the company 0.15 to send out each promotion, it would be best to limit that promotion only to those that are most receptive to the promotion. Each data point includes one column indicating whether or not an individual was sent a promotion for the product, and one column indicating whether or not that individual eventually purchased that product. Each individual also has seven additional features associated with them, which are provided abstractly as V1-V7.\n",
    "\n",
    "#### Optimization Strategy\n",
    "\n",
    "Your task is to use the training data to understand what patterns in V1-V7 to indicate that a promotion should be provided to a user. Specifically, your goal is to maximize the following metrics:\n",
    "\n",
    "* **Incremental Response Rate (IRR)** \n",
    "\n",
    "IRR depicts how many more customers purchased the product with the promotion, as compared to if they didn't receive the promotion. Mathematically, it's the ratio of the number of purchasers in the promotion group to the total number of customers in the purchasers group (_treatment_) minus the ratio of the number of purchasers in the non-promotional group to the total number of customers in the non-promotional group (_control_).\n",
    "\n",
    "$$ IRR = \\frac{purch_{treat}}{cust_{treat}} - \\frac{purch_{ctrl}}{cust_{ctrl}} $$\n",
    "\n",
    "\n",
    "* **Net Incremental Revenue (NIR)**\n",
    "\n",
    "NIR depicts how much is made (or lost) by sending out the promotion. Mathematically, this is 10 times the total number of purchasers that received the promotion minus 0.15 times the number of promotions sent out, minus 10 times the number of purchasers who were not given the promotion.\n",
    "\n",
    "$$ NIR = (10\\cdot purch_{treat} - 0.15 \\cdot cust_{treat}) - 10 \\cdot purch_{ctrl}$$\n",
    "\n",
    "For a full description of what Starbucks provides to candidates see the [instructions available here](https://drive.google.com/open?id=18klca9Sef1Rs6q8DW4l7o349r8B70qXM).\n",
    "\n",
    "Below you can find the training data provided.  Explore the data and different optimization strategies.\n",
    "\n",
    "#### How To Test Your Strategy?\n",
    "\n",
    "When you feel like you have an optimization strategy, complete the `promotion_strategy` function to pass to the `test_results` function.  \n",
    "From past data, we know there are four possible outomes:\n",
    "\n",
    "Table of actual promotion vs. predicted promotion customers:  \n",
    "\n",
    "<table>\n",
    "<tr><th></th><th colspan = '2'>Actual</th></tr>\n",
    "<tr><th>Predicted</th><th>Yes</th><th>No</th></tr>\n",
    "<tr><th>Yes</th><td>I</td><td>II</td></tr>\n",
    "<tr><th>No</th><td>III</td><td>IV</td></tr>\n",
    "</table>\n",
    "\n",
    "The metrics are only being compared for the individuals we predict should obtain the promotion – that is, quadrants I and II.  Since the first set of individuals that receive the promotion (in the training set) receive it randomly, we can expect that quadrants I and II will have approximately equivalent participants.  \n",
    "\n",
    "Comparing quadrant I to II then gives an idea of how well your promotion strategy will work in the future. \n",
    "\n",
    "Get started by reading in the data below.  See how each variable or combination of variables along with a promotion influences the chance of purchasing.  When you feel like you have a strategy for who should receive a promotion, test your strategy against the test dataset used in the final `test_results` function."
   ]
  },
  {
   "cell_type": "code",
   "execution_count": 1,
   "metadata": {},
   "outputs": [],
   "source": [
    "# load in packages\n",
    "from itertools import combinations\n",
    "\n",
    "from test_results import test_results, score\n",
    "import numpy as np\n",
    "import pandas as pd\n",
    "import scipy as sp\n",
    "import sklearn as sk\n",
    "\n",
    "import matplotlib.pyplot as plt\n",
    "import seaborn as sns\n",
    "sns.set()\n",
    "%matplotlib inline\n",
    "\n",
    "import scipy.stats as stats\n",
    "\n",
    "from sklearn.ensemble import RandomForestClassifier, GradientBoostingClassifier\n",
    "from sklearn.model_selection import train_test_split, GridSearchCV\n",
    "from sklearn.metrics import classification_report\n",
    "from sklearn.pipeline import Pipeline\n",
    "from sklearn.metrics import balanced_accuracy_score, make_scorer\n",
    "#parallel backend\n",
    "from sklearn.utils import parallel_backend\n"
   ]
  },
  {
   "cell_type": "markdown",
   "metadata": {},
   "source": [
    "## Data Understanding"
   ]
  },
  {
   "cell_type": "code",
   "execution_count": 2,
   "metadata": {},
   "outputs": [],
   "source": [
    "#get a basic understanding of data and how it works together"
   ]
  },
  {
   "cell_type": "code",
   "execution_count": 3,
   "metadata": {},
   "outputs": [
    {
     "data": {
      "text/html": [
       "<div>\n",
       "<style scoped>\n",
       "    .dataframe tbody tr th:only-of-type {\n",
       "        vertical-align: middle;\n",
       "    }\n",
       "\n",
       "    .dataframe tbody tr th {\n",
       "        vertical-align: top;\n",
       "    }\n",
       "\n",
       "    .dataframe thead th {\n",
       "        text-align: right;\n",
       "    }\n",
       "</style>\n",
       "<table border=\"1\" class=\"dataframe\">\n",
       "  <thead>\n",
       "    <tr style=\"text-align: right;\">\n",
       "      <th></th>\n",
       "      <th>ID</th>\n",
       "      <th>Promotion</th>\n",
       "      <th>purchase</th>\n",
       "      <th>V1</th>\n",
       "      <th>V2</th>\n",
       "      <th>V3</th>\n",
       "      <th>V4</th>\n",
       "      <th>V5</th>\n",
       "      <th>V6</th>\n",
       "      <th>V7</th>\n",
       "    </tr>\n",
       "  </thead>\n",
       "  <tbody>\n",
       "    <tr>\n",
       "      <th>0</th>\n",
       "      <td>1</td>\n",
       "      <td>No</td>\n",
       "      <td>0</td>\n",
       "      <td>2</td>\n",
       "      <td>30.443518</td>\n",
       "      <td>-1.165083</td>\n",
       "      <td>1</td>\n",
       "      <td>1</td>\n",
       "      <td>3</td>\n",
       "      <td>2</td>\n",
       "    </tr>\n",
       "    <tr>\n",
       "      <th>1</th>\n",
       "      <td>3</td>\n",
       "      <td>No</td>\n",
       "      <td>0</td>\n",
       "      <td>3</td>\n",
       "      <td>32.159350</td>\n",
       "      <td>-0.645617</td>\n",
       "      <td>2</td>\n",
       "      <td>3</td>\n",
       "      <td>2</td>\n",
       "      <td>2</td>\n",
       "    </tr>\n",
       "    <tr>\n",
       "      <th>2</th>\n",
       "      <td>4</td>\n",
       "      <td>No</td>\n",
       "      <td>0</td>\n",
       "      <td>2</td>\n",
       "      <td>30.431659</td>\n",
       "      <td>0.133583</td>\n",
       "      <td>1</td>\n",
       "      <td>1</td>\n",
       "      <td>4</td>\n",
       "      <td>2</td>\n",
       "    </tr>\n",
       "    <tr>\n",
       "      <th>3</th>\n",
       "      <td>5</td>\n",
       "      <td>No</td>\n",
       "      <td>0</td>\n",
       "      <td>0</td>\n",
       "      <td>26.588914</td>\n",
       "      <td>-0.212728</td>\n",
       "      <td>2</td>\n",
       "      <td>1</td>\n",
       "      <td>4</td>\n",
       "      <td>2</td>\n",
       "    </tr>\n",
       "    <tr>\n",
       "      <th>4</th>\n",
       "      <td>8</td>\n",
       "      <td>Yes</td>\n",
       "      <td>0</td>\n",
       "      <td>3</td>\n",
       "      <td>28.044332</td>\n",
       "      <td>-0.385883</td>\n",
       "      <td>1</td>\n",
       "      <td>1</td>\n",
       "      <td>2</td>\n",
       "      <td>2</td>\n",
       "    </tr>\n",
       "  </tbody>\n",
       "</table>\n",
       "</div>"
      ],
      "text/plain": [
       "   ID Promotion  purchase  V1         V2        V3  V4  V5  V6  V7\n",
       "0   1        No         0   2  30.443518 -1.165083   1   1   3   2\n",
       "1   3        No         0   3  32.159350 -0.645617   2   3   2   2\n",
       "2   4        No         0   2  30.431659  0.133583   1   1   4   2\n",
       "3   5        No         0   0  26.588914 -0.212728   2   1   4   2\n",
       "4   8       Yes         0   3  28.044332 -0.385883   1   1   2   2"
      ]
     },
     "execution_count": 3,
     "metadata": {},
     "output_type": "execute_result"
    }
   ],
   "source": [
    "# load in the data\n",
    "train_data = pd.read_csv('./training.csv')\n",
    "train_data.head()"
   ]
  },
  {
   "cell_type": "code",
   "execution_count": 4,
   "metadata": {},
   "outputs": [],
   "source": [
    "def explore_data(df):\n",
    "    \"\"\"\n",
    "    prints all basic infos about a dataframe\n",
    "    \n",
    "    Args:\n",
    "        df: any pandas dataframe\n",
    "    Returns:\n",
    "        None\n",
    "    \n",
    "    \"\"\"\n",
    "    #get basic shape of dataframe\n",
    "    shape = df.shape\n",
    "    print('shape: {}'.format(shape))\n",
    "    print('------------------\\n')\n",
    "    \n",
    "    #check for dtypes and missing values\n",
    "    info = df.info()\n",
    "    print(info)\n",
    "    print('------------------\\n')\n",
    "    \n",
    "    #check numeric variables in dataframe\n",
    "    description = df.describe()\n",
    "    print(description)\n",
    "    print('------------------\\n')\n",
    "    \n",
    "    for column in train_data.columns:\n",
    "        print(column)\n",
    "        print(train_data[column].unique())\n",
    "        print('------------------\\n')\n",
    "    \n",
    "    if 'sns' not in dir():\n",
    "        import seaborn as sns\n",
    "        sns.set()\n",
    "        #check correlation of numeric variables in dataframe\n",
    "        print('Correlation: \\n')\n",
    "        heatmap = sns.heatmap(df.corr(), annot=True, fmt='.2f')\n",
    "    else:\n",
    "        print('Correlation: \\n')\n",
    "        heatmap = sns.heatmap(df.corr(), annot=True, fmt='.2f')"
   ]
  },
  {
   "cell_type": "code",
   "execution_count": 5,
   "metadata": {
    "scrolled": true
   },
   "outputs": [
    {
     "name": "stdout",
     "output_type": "stream",
     "text": [
      "shape: (84534, 10)\n",
      "------------------\n",
      "\n",
      "<class 'pandas.core.frame.DataFrame'>\n",
      "RangeIndex: 84534 entries, 0 to 84533\n",
      "Data columns (total 10 columns):\n",
      " #   Column     Non-Null Count  Dtype  \n",
      "---  ------     --------------  -----  \n",
      " 0   ID         84534 non-null  int64  \n",
      " 1   Promotion  84534 non-null  object \n",
      " 2   purchase   84534 non-null  int64  \n",
      " 3   V1         84534 non-null  int64  \n",
      " 4   V2         84534 non-null  float64\n",
      " 5   V3         84534 non-null  float64\n",
      " 6   V4         84534 non-null  int64  \n",
      " 7   V5         84534 non-null  int64  \n",
      " 8   V6         84534 non-null  int64  \n",
      " 9   V7         84534 non-null  int64  \n",
      "dtypes: float64(2), int64(7), object(1)\n",
      "memory usage: 6.4+ MB\n",
      "None\n",
      "------------------\n",
      "\n",
      "                  ID      purchase            V1            V2            V3  \\\n",
      "count   84534.000000  84534.000000  84534.000000  84534.000000  84534.000000   \n",
      "mean    62970.972413      0.012303      1.500662     29.973600      0.000190   \n",
      "std     36418.440539      0.110234      0.868234      5.010626      1.000485   \n",
      "min         1.000000      0.000000      0.000000      7.104007     -1.684550   \n",
      "25%     31467.250000      0.000000      1.000000     26.591501     -0.905350   \n",
      "50%     62827.500000      0.000000      2.000000     29.979744     -0.039572   \n",
      "75%     94438.750000      0.000000      2.000000     33.344593      0.826206   \n",
      "max    126184.000000      1.000000      3.000000     50.375913      1.691984   \n",
      "\n",
      "                 V4            V5            V6            V7  \n",
      "count  84534.000000  84534.000000  84534.000000  84534.000000  \n",
      "mean       1.679608      2.327643      2.502898      1.701694  \n",
      "std        0.466630      0.841167      1.117349      0.457517  \n",
      "min        1.000000      1.000000      1.000000      1.000000  \n",
      "25%        1.000000      2.000000      2.000000      1.000000  \n",
      "50%        2.000000      2.000000      3.000000      2.000000  \n",
      "75%        2.000000      3.000000      4.000000      2.000000  \n",
      "max        2.000000      4.000000      4.000000      2.000000  \n",
      "------------------\n",
      "\n",
      "ID\n",
      "[     1      3      4 ... 126182 126183 126184]\n",
      "------------------\n",
      "\n",
      "Promotion\n",
      "['No' 'Yes']\n",
      "------------------\n",
      "\n",
      "purchase\n",
      "[0 1]\n",
      "------------------\n",
      "\n",
      "V1\n",
      "[2 3 0 1]\n",
      "------------------\n",
      "\n",
      "V2\n",
      "[30.4435178 32.1593501 30.4316591 ... 31.4920187 37.7661061 21.7208355]\n",
      "------------------\n",
      "\n",
      "V3\n",
      "[-1.1650834  -0.6456167   0.13358341 -0.2127277  -0.3858833  -0.90535\n",
      "  1.08593908 -1.4248168   0.39331678  0.56647235 -1.5113946   0.73962793\n",
      "  1.60540581 -1.2516612   1.51882802  0.2201612  -0.12615    -1.6845501\n",
      " -0.9919278  -0.5590389   1.6919836   0.82620572  0.99936129 -0.4724611\n",
      "  0.04700562 -1.338239   -1.5979723   0.30673899 -0.0395722   1.34567245\n",
      "  0.91278351 -0.8187723   1.43225023  1.25909466  1.17251687  0.47989457\n",
      " -0.7321945  -1.0785056  -0.2993055   0.65305014]\n",
      "------------------\n",
      "\n",
      "V4\n",
      "[1 2]\n",
      "------------------\n",
      "\n",
      "V5\n",
      "[1 3 4 2]\n",
      "------------------\n",
      "\n",
      "V6\n",
      "[3 2 4 1]\n",
      "------------------\n",
      "\n",
      "V7\n",
      "[2 1]\n",
      "------------------\n",
      "\n",
      "Correlation: \n",
      "\n"
     ]
    },
    {
     "data": {
      "image/png": "[encoded data removed]",
      "text/plain": [
       "<Figure size 432x288 with 2 Axes>"
      ]
     },
     "metadata": {},
     "output_type": "display_data"
    }
   ],
   "source": [
    "explore_data(train_data)"
   ]
  },
  {
   "cell_type": "markdown",
   "metadata": {},
   "source": [
    "We'll definitely have to take care of \"Promotion\" and turn it into 0 and 1\n",
    "Otherwise there are no null values, which is very good and no missing values either"
   ]
  },
  {
   "cell_type": "markdown",
   "metadata": {},
   "source": [
    "## Prepare the Data - Cleaning"
   ]
  },
  {
   "cell_type": "code",
   "execution_count": 6,
   "metadata": {},
   "outputs": [
    {
     "data": {
      "text/plain": [
       "array([0, 1])"
      ]
     },
     "execution_count": 6,
     "metadata": {},
     "output_type": "execute_result"
    }
   ],
   "source": [
    "#as mentioned, we need to take care of the Promotion column\n",
    "train_data = train_data.replace({'Promotion': {'Yes': 1, 'No': 0}})\n",
    "train_data['Promotion'].unique()"
   ]
  },
  {
   "cell_type": "code",
   "execution_count": 7,
   "metadata": {},
   "outputs": [
    {
     "data": {
      "text/html": [
       "<div>\n",
       "<style scoped>\n",
       "    .dataframe tbody tr th:only-of-type {\n",
       "        vertical-align: middle;\n",
       "    }\n",
       "\n",
       "    .dataframe tbody tr th {\n",
       "        vertical-align: top;\n",
       "    }\n",
       "\n",
       "    .dataframe thead th {\n",
       "        text-align: right;\n",
       "    }\n",
       "</style>\n",
       "<table border=\"1\" class=\"dataframe\">\n",
       "  <thead>\n",
       "    <tr style=\"text-align: right;\">\n",
       "      <th></th>\n",
       "      <th>ID</th>\n",
       "      <th>Promotion</th>\n",
       "      <th>purchase</th>\n",
       "      <th>V1</th>\n",
       "      <th>V2</th>\n",
       "      <th>V3</th>\n",
       "      <th>V4</th>\n",
       "      <th>V5</th>\n",
       "      <th>V6</th>\n",
       "      <th>V7</th>\n",
       "    </tr>\n",
       "  </thead>\n",
       "  <tbody>\n",
       "    <tr>\n",
       "      <th>0</th>\n",
       "      <td>1</td>\n",
       "      <td>0</td>\n",
       "      <td>0</td>\n",
       "      <td>2</td>\n",
       "      <td>30.443518</td>\n",
       "      <td>-1.165083</td>\n",
       "      <td>1</td>\n",
       "      <td>1</td>\n",
       "      <td>3</td>\n",
       "      <td>2</td>\n",
       "    </tr>\n",
       "    <tr>\n",
       "      <th>1</th>\n",
       "      <td>3</td>\n",
       "      <td>0</td>\n",
       "      <td>0</td>\n",
       "      <td>3</td>\n",
       "      <td>32.159350</td>\n",
       "      <td>-0.645617</td>\n",
       "      <td>2</td>\n",
       "      <td>3</td>\n",
       "      <td>2</td>\n",
       "      <td>2</td>\n",
       "    </tr>\n",
       "    <tr>\n",
       "      <th>2</th>\n",
       "      <td>4</td>\n",
       "      <td>0</td>\n",
       "      <td>0</td>\n",
       "      <td>2</td>\n",
       "      <td>30.431659</td>\n",
       "      <td>0.133583</td>\n",
       "      <td>1</td>\n",
       "      <td>1</td>\n",
       "      <td>4</td>\n",
       "      <td>2</td>\n",
       "    </tr>\n",
       "    <tr>\n",
       "      <th>3</th>\n",
       "      <td>5</td>\n",
       "      <td>0</td>\n",
       "      <td>0</td>\n",
       "      <td>0</td>\n",
       "      <td>26.588914</td>\n",
       "      <td>-0.212728</td>\n",
       "      <td>2</td>\n",
       "      <td>1</td>\n",
       "      <td>4</td>\n",
       "      <td>2</td>\n",
       "    </tr>\n",
       "    <tr>\n",
       "      <th>4</th>\n",
       "      <td>8</td>\n",
       "      <td>1</td>\n",
       "      <td>0</td>\n",
       "      <td>3</td>\n",
       "      <td>28.044332</td>\n",
       "      <td>-0.385883</td>\n",
       "      <td>1</td>\n",
       "      <td>1</td>\n",
       "      <td>2</td>\n",
       "      <td>2</td>\n",
       "    </tr>\n",
       "  </tbody>\n",
       "</table>\n",
       "</div>"
      ],
      "text/plain": [
       "   ID  Promotion  purchase  V1         V2        V3  V4  V5  V6  V7\n",
       "0   1          0         0   2  30.443518 -1.165083   1   1   3   2\n",
       "1   3          0         0   3  32.159350 -0.645617   2   3   2   2\n",
       "2   4          0         0   2  30.431659  0.133583   1   1   4   2\n",
       "3   5          0         0   0  26.588914 -0.212728   2   1   4   2\n",
       "4   8          1         0   3  28.044332 -0.385883   1   1   2   2"
      ]
     },
     "execution_count": 7,
     "metadata": {},
     "output_type": "execute_result"
    }
   ],
   "source": [
    "train_data.head()"
   ]
  },
  {
   "cell_type": "code",
   "execution_count": 8,
   "metadata": {},
   "outputs": [],
   "source": [
    "#create a checkpoint\n",
    "cleaned_data = train_data.copy()"
   ]
  },
  {
   "cell_type": "markdown",
   "metadata": {},
   "source": [
    "## Statistically Significant Difference"
   ]
  },
  {
   "cell_type": "code",
   "execution_count": 9,
   "metadata": {},
   "outputs": [
    {
     "data": {
      "text/plain": [
       "Promotion  purchase\n",
       "0          0           41851\n",
       "           1             319\n",
       "1          0           41643\n",
       "           1             721\n",
       "Name: purchase, dtype: int64"
      ]
     },
     "execution_count": 9,
     "metadata": {},
     "output_type": "execute_result"
    }
   ],
   "source": [
    "cleaned_data.groupby('Promotion')['purchase'].value_counts()"
   ]
  },
  {
   "cell_type": "markdown",
   "metadata": {},
   "source": [
    "### Invariant Metrics"
   ]
  },
  {
   "cell_type": "code",
   "execution_count": 10,
   "metadata": {},
   "outputs": [
    {
     "name": "stdout",
     "output_type": "stream",
     "text": [
      "n_obs: 84534\n",
      "n_control: 42170\n",
      "n_exper: 42364\n"
     ]
    }
   ],
   "source": [
    "#there are only two groups, those who received a promotion, and those who did not\n",
    "#so there is one control group and one experiment group\n",
    "#since we can assume, that the numbers of participants in the group are roughly the same\n",
    "n_obs = cleaned_data.shape[0]\n",
    "n_control = cleaned_data[\"Promotion\"].value_counts().loc[0]\n",
    "n_exper = cleaned_data[\"Promotion\"].value_counts().loc[1]\n",
    "\n",
    "print('n_obs: {}'.format(n_obs))\n",
    "print('n_control: {}'.format(n_control))\n",
    "print('n_exper: {}'.format(n_exper))"
   ]
  },
  {
   "cell_type": "code",
   "execution_count": 11,
   "metadata": {},
   "outputs": [
    {
     "name": "stdout",
     "output_type": "stream",
     "text": [
      "std dev: 145.3736564856233\n",
      "z-score: -0.6638066506192843\n",
      "p-value:  0.5068140685419046\n"
     ]
    }
   ],
   "source": [
    "# Compute a z-score and p-value\n",
    "p = 0.5\n",
    "sd = np.sqrt(p * (1-p) * n_obs)\n",
    "\n",
    "z = ((n_control + 0.5) - p * n_obs) / sd\n",
    "\n",
    "print('std dev: {}'.format(sd))\n",
    "print('z-score: {}'.format(z))\n",
    "print('p-value: ', 2 * stats.norm.cdf(z))"
   ]
  },
  {
   "cell_type": "markdown",
   "metadata": {},
   "source": [
    "### Evaluation Metrics"
   ]
  },
  {
   "cell_type": "markdown",
   "metadata": {},
   "source": [
    "#### Incremental Response Rate (IRR)"
   ]
  },
  {
   "cell_type": "markdown",
   "metadata": {},
   "source": [
    "$$ IRR = \\frac{purch_{treat}}{cust_{treat}} - \\frac{purch_{ctrl}}{cust_{ctrl}} $$"
   ]
  },
  {
   "cell_type": "code",
   "execution_count": 12,
   "metadata": {},
   "outputs": [],
   "source": [
    "def iir(df):\n",
    "    \"\"\"\n",
    "    Args:\n",
    "        df - a dataframe with all the columns: Promotion, purchase, V1 - V7 \n",
    "    Returns:\n",
    "        The evaluation metric IIR\n",
    "    \"\"\"        \n",
    "    df['purchase'] = df['purchase'].astype('int32')        \n",
    "    purch_control = (df.groupby('Promotion')['purchase'].sum()).loc[0]\n",
    "    purch_treat = df.groupby('Promotion')['purchase'].sum().loc[1]   \n",
    "    cust_treat = df[\"Promotion\"].value_counts().loc[1]\n",
    "    cust_control = df[\"Promotion\"].value_counts().loc[0]\n",
    "    \n",
    "    return (purch_treat / cust_treat) - (purch_control / cust_control)"
   ]
  },
  {
   "cell_type": "code",
   "execution_count": 13,
   "metadata": {},
   "outputs": [
    {
     "data": {
      "text/plain": [
       "0.009454547819772702"
      ]
     },
     "execution_count": 13,
     "metadata": {},
     "output_type": "execute_result"
    }
   ],
   "source": [
    "iir(cleaned_data)"
   ]
  },
  {
   "cell_type": "markdown",
   "metadata": {},
   "source": [
    "##### Net Incremental Revenue (NIR)"
   ]
  },
  {
   "cell_type": "markdown",
   "metadata": {},
   "source": [
    "$$ NIR = (10\\cdot purch_{treat} - 0.15 \\cdot cust_{treat}) - 10 \\cdot purch_{ctrl}$$"
   ]
  },
  {
   "cell_type": "code",
   "execution_count": 14,
   "metadata": {},
   "outputs": [],
   "source": [
    "def nir(df):\n",
    "    \"\"\"\n",
    "    Args: \n",
    "        df - a dataframe with all the columns: Promotion, purchase, V1 - V7 \n",
    "    Returns:\n",
    "        The evaluation metric NIR\n",
    "    \"\"\"            \n",
    "    df['purchase'] = df['purchase'].astype('int32')    \n",
    "    purch_control = (df.groupby('Promotion')['purchase'].sum()).loc[0]\n",
    "    purch_treat = (df.groupby('Promotion')['purchase'].sum()).loc[1]    \n",
    "    cust_treat = df[\"Promotion\"].value_counts().loc[1]\n",
    "    \n",
    "    return (10 * purch_treat - 0.15 * cust_treat) - (10 * purch_control)"
   ]
  },
  {
   "cell_type": "code",
   "execution_count": 15,
   "metadata": {},
   "outputs": [
    {
     "data": {
      "text/plain": [
       "-2334.5999999999995"
      ]
     },
     "execution_count": 15,
     "metadata": {},
     "output_type": "execute_result"
    }
   ],
   "source": [
    "nir(cleaned_data)"
   ]
  },
  {
   "cell_type": "markdown",
   "metadata": {},
   "source": [
    "## Results of the Experiment"
   ]
  },
  {
   "cell_type": "markdown",
   "metadata": {},
   "source": [
    "The IRR is slightly in the positive, given that the puchases between groups who received a promotion and did not do not differ that much.\n",
    "\n",
    "The Net Incremental Revenue showcases a loss of about 2334 $ from the training data set, given that each promotion costs 0.15 ¢ and there is no substantial difference in purchase behavior with a promotion.\n",
    "\n",
    "Overall, this experiments does not seem like a success with the promotions being dealt out as is, as random. We need to decide which recepients are prone do a purchase once they received a promotion. For that, we will use a classifier."
   ]
  },
  {
   "cell_type": "markdown",
   "metadata": {},
   "source": [
    "## Classifier Model"
   ]
  },
  {
   "cell_type": "code",
   "execution_count": 85,
   "metadata": {},
   "outputs": [],
   "source": [
    "def build_model():\n",
    "    \"\"\"\n",
    "    Creates pipeline of model and parameters to optimize it\n",
    "    Args:\n",
    "        - None\n",
    "    Returns:\n",
    "        - cv: grid search object\n",
    "    \"\"\"\n",
    "    #build pipeline\n",
    "    pipeline = Pipeline([\n",
    "        ('clf', RandomForestClassifier(random_state=0, \n",
    "                                       n_jobs=-1, \n",
    "                                       class_weight=\"balanced\"))    \n",
    "    ])\n",
    "    \n",
    "    #gridsearch parameters\n",
    "    parameters = {\n",
    "        'clf__n_estimators' : [100, 200, 500],\n",
    "        'clf__max_features' : ['auto', 'sqrt', 'log2'],\n",
    "        'clf__max_depth' : [2, 3, 6, 7, 10],\n",
    "        'clf__criterion' : ['gini', 'entropy'],\n",
    "        'clf__bootstrap' : [True, False],\n",
    "        'clf__min_samples_split' : [2, 4, 6, 8, 10]\n",
    "    }\n",
    "\n",
    "    cv = GridSearchCV(pipeline, param_grid=parameters, n_jobs=-1, verbose=2)\n",
    "    \n",
    "    return cv"
   ]
  },
  {
   "cell_type": "code",
   "execution_count": 86,
   "metadata": {},
   "outputs": [],
   "source": [
    "#define input and output metrics\n",
    "X = cleaned_data[['V1', 'V2', 'V3', 'V4', 'V5', 'V6', 'V7']]\n",
    "y = cleaned_data['purchase']"
   ]
  },
  {
   "cell_type": "code",
   "execution_count": 87,
   "metadata": {},
   "outputs": [],
   "source": [
    "#split data\n",
    "X_train, X_test, y_train, y_test = train_test_split(X, y, test_size=0.2, random_state=42)"
   ]
  },
  {
   "cell_type": "code",
   "execution_count": 88,
   "metadata": {},
   "outputs": [
    {
     "name": "stdout",
     "output_type": "stream",
     "text": [
      "Building model...\n",
      "model built!\n",
      "Training model...\n",
      "Fitting 5 folds for each of 900 candidates, totalling 4500 fits\n"
     ]
    },
    {
     "name": "stderr",
     "output_type": "stream",
     "text": [
      "[Parallel(n_jobs=-1)]: Using backend LokyBackend with 12 concurrent workers.\n",
      "[Parallel(n_jobs=-1)]: Done  17 tasks      | elapsed:   11.7s\n",
      "[Parallel(n_jobs=-1)]: Done 138 tasks      | elapsed:  1.3min\n",
      "[Parallel(n_jobs=-1)]: Done 341 tasks      | elapsed:  3.4min\n",
      "[Parallel(n_jobs=-1)]: Done 624 tasks      | elapsed:  7.6min\n",
      "[Parallel(n_jobs=-1)]: Done 989 tasks      | elapsed: 14.2min\n",
      "[Parallel(n_jobs=-1)]: Done 1434 tasks      | elapsed: 20.3min\n",
      "[Parallel(n_jobs=-1)]: Done 1961 tasks      | elapsed: 28.6min\n",
      "[Parallel(n_jobs=-1)]: Done 2568 tasks      | elapsed: 38.0min\n",
      "[Parallel(n_jobs=-1)]: Done 3257 tasks      | elapsed: 54.1min\n",
      "[Parallel(n_jobs=-1)]: Done 4026 tasks      | elapsed: 66.5min\n",
      "[Parallel(n_jobs=-1)]: Done 4500 out of 4500 | elapsed: 81.0min finished\n"
     ]
    },
    {
     "name": "stdout",
     "output_type": "stream",
     "text": [
      "model trained!\n"
     ]
    }
   ],
   "source": [
    "#build model\n",
    "print('Building model...')\n",
    "model = build_model()\n",
    "print('model built!')\n",
    "\n",
    "#train model\n",
    "print('Training model...')\n",
    "model.fit(X_train, y_train)\n",
    "print('model trained!')"
   ]
  },
  {
   "cell_type": "code",
   "execution_count": 89,
   "metadata": {},
   "outputs": [
    {
     "name": "stdout",
     "output_type": "stream",
     "text": [
      "0.8827834424725379 {'clf__bootstrap': True, 'clf__criterion': 'gini', 'clf__max_depth': 10, 'clf__max_features': 'auto', 'clf__min_samples_split': 4, 'clf__n_estimators': 500}\n"
     ]
    }
   ],
   "source": [
    "#print out optimal parameter combination\n",
    "print(model.best_score_, model.best_params_)"
   ]
  },
  {
   "cell_type": "code",
   "execution_count": 94,
   "metadata": {},
   "outputs": [
    {
     "name": "stdout",
     "output_type": "stream",
     "text": [
      "0.52730889574226\n"
     ]
    }
   ],
   "source": [
    "y_pred = model.predict(X_test)\n",
    "print(balanced_accuracy_score(y_test, y_pred))"
   ]
  },
  {
   "cell_type": "markdown",
   "metadata": {},
   "source": [
    "## Test"
   ]
  },
  {
   "cell_type": "code",
   "execution_count": 90,
   "metadata": {},
   "outputs": [],
   "source": [
    "def promotion_strategy(df):\n",
    "    '''\n",
    "    INPUT \n",
    "    df - a dataframe with *only* the columns V1 - V7 (same as train_data)\n",
    "\n",
    "    OUTPUT\n",
    "    promotion_df - np.array with the values\n",
    "                   'Yes' or 'No' related to whether or not an \n",
    "                   individual should recieve a promotion \n",
    "                   should be the length of df.shape[0]\n",
    "                \n",
    "    Ex:\n",
    "    INPUT: df\n",
    "    \n",
    "    V1\tV2\t  V3\tV4\tV5\tV6\tV7\n",
    "    2\t30\t-1.1\t1\t1\t3\t2\n",
    "    3\t32\t-0.6\t2\t3\t2\t2\n",
    "    2\t30\t0.13\t1\t1\t4\t2\n",
    "    \n",
    "    OUTPUT: promotion\n",
    "    \n",
    "    array(['Yes', 'Yes', 'No'])\n",
    "    indicating the first two users would recieve the promotion and \n",
    "    the last should not.\n",
    "    '''\n",
    "    X = df.values\n",
    "    y_pred = model.predict(X)    \n",
    "    promotion = np.where(y_pred == 1, \"Yes\", \"No\")\n",
    "    \n",
    "    return promotion"
   ]
  },
  {
   "cell_type": "code",
   "execution_count": 91,
   "metadata": {},
   "outputs": [
    {
     "name": "stdout",
     "output_type": "stream",
     "text": [
      "Nice job!  See how well your strategy worked on our test data below!\n",
      "\n",
      "Your irr with this strategy is 0.0197.\n",
      "\n",
      "Your nir with this strategy is 128.50.\n",
      "We came up with a model with an irr of 0.0188 and an nir of 189.45 on the test set.\n",
      "\n",
      " How did you do?\n"
     ]
    },
    {
     "data": {
      "text/plain": [
       "(0.01970168131691308, 128.5)"
      ]
     },
     "execution_count": 91,
     "metadata": {},
     "output_type": "execute_result"
    }
   ],
   "source": [
    "# This will test your results, and provide you back some information \n",
    "# on how well your promotion_strategy will work in practice\n",
    "\n",
    "test_results(promotion_strategy)"
   ]
  }
 ],
 "metadata": {
  "kernelspec": {
   "display_name": "Python 3",
   "language": "python",
   "name": "python3"
  },
  "language_info": {
   "codemirror_mode": {
    "name": "ipython",
    "version": 3
   },
   "file_extension": ".py",
   "mimetype": "text/x-python",
   "name": "python",
   "nbconvert_exporter": "python",
   "pygments_lexer": "ipython3",
   "version": "3.7.9"
  }
 },
 "nbformat": 4,
 "nbformat_minor": 2
}
